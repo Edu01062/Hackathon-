{
  "cells": [
    {
      "cell_type": "code",
      "execution_count": null,
      "metadata": {
        "id": "8GX6TqP0tRmh"
      },
      "outputs": [],
      "source": [
        "import pandas\n",
        "\n",
        "url = \"https://github.com/gsbDBI/ExperimentData/raw/97a11199ba559f01c7b3803a1493ffa08631732e/Advertising/adcontentworth_qje.csv\"\n",
        "df = pd.read_csv(url)\n",
        "columna = df['risk']\n",
        "\n",
        "df['high_risk'] = df['high_risk'].apply(lambda x: 1 if x == \"HIGH\" else 0)\n",
        "df['medium_risk'] = df['risk'].apply(lambda x: 1 if x == \"MEDIUM\" else 0)\n",
        "df['black'] = df['race'].apply(lambda x: 1 if x == \"black\" else 0)\n",
        "df['colored'] = df['race'].apply(lambda x: 1 if x == \"coloured\" else 0)\n",
        "df['indian'] = df['race'].apply(lambda x: 1 if x == \"indian\" else 0)\n",
        "df = df.dropna(subset=['race'])\n",
        "df.fillna(0, inplace=True)"
      ]
    }
  ],
  "metadata": {
    "colab": {
      "provenance": []
    },
    "kernelspec": {
      "display_name": "Python 3",
      "name": "python3"
    },
    "language_info": {
      "name": "python"
    }
  },
  "nbformat": 4,
  "nbformat_minor": 0
}
